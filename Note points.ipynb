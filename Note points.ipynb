{
 "cells": [
  {
   "cell_type": "markdown",
   "id": "679f753f-9465-4437-b315-c084d0e86845",
   "metadata": {},
   "source": [
    "***Steps for EDA***\n",
    "\n",
    "- Step-1:Read the data\n",
    "- Step-2:Data quick checks\n",
    "- Step-3:Convert categorical columns\n",
    "         Numerical columns seperately\n",
    "- Step-4:You need fill the missing values\n",
    "- Step-5:Categorical data analysis\n",
    "  - Unique\n",
    "  - nunique\n",
    "  - value counts\n",
    "  - bar chart\n",
    "  - count plot\n",
    "  - pie chart\n",
    "- Step-6:Numerical data analysis\n",
    "    - Describe function\n",
    "    - Histogram\n",
    "    - Data skew ness\n",
    "- Step-7:Box plot creation\n",
    "    - Outlier analysis\n",
    "- Step-8:Transformation methods\n",
    "- Step-9:Encoding methods\n",
    "  - Map\n",
    "  - np.where\n",
    "  - One hot encoder\n",
    "  - Label encoder\n",
    "- Step-10:Scaling methods\n",
    "   - Z-score\n",
    "   - minmax scalar\n"
   ]
  },
  {
   "cell_type": "markdown",
   "id": "e42fae0d-a88e-4660-82fd-658a9ecd19fc",
   "metadata": {},
   "source": [
    "- columns===features===variables\n",
    "- columns are 2 types\n",
    "- Input coumns output columns\n",
    "- Independent dependent\n",
    "-                             Target column\n",
    "\n",
    "\n",
    "\n",
    "===================================\n",
    "- rows===fields===instances====tuples\n",
    "- values"
   ]
  },
  {
   "cell_type": "code",
   "execution_count": null,
   "id": "2aa4a790-7310-4064-bae2-e217122306db",
   "metadata": {},
   "outputs": [],
   "source": []
  }
 ],
 "metadata": {
  "kernelspec": {
   "display_name": "Python 3 (ipykernel)",
   "language": "python",
   "name": "python3"
  },
  "language_info": {
   "codemirror_mode": {
    "name": "ipython",
    "version": 3
   },
   "file_extension": ".py",
   "mimetype": "text/x-python",
   "name": "python",
   "nbconvert_exporter": "python",
   "pygments_lexer": "ipython3",
   "version": "3.11.7"
  }
 },
 "nbformat": 4,
 "nbformat_minor": 5
}
